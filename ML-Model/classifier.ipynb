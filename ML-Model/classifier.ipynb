{
 "metadata": {
  "language_info": {
   "codemirror_mode": {
    "name": "ipython",
    "version": 3
   },
   "file_extension": ".py",
   "mimetype": "text/x-python",
   "name": "python",
   "nbconvert_exporter": "python",
   "pygments_lexer": "ipython3",
   "version": "3.7.9-final"
  },
  "orig_nbformat": 2,
  "kernelspec": {
   "name": "python_defaultSpec_1600931666293",
   "display_name": "Python 3.7.9 64-bit"
  }
 },
 "nbformat": 4,
 "nbformat_minor": 2,
 "cells": [
  {
   "cell_type": "code",
   "execution_count": 2,
   "metadata": {},
   "outputs": [],
   "source": [
    "from tensorflow import keras\n",
    "import matplotlib.pyplot as plt\n",
    "import tensorflow as tf\n",
    "import numpy as np\n",
    "import cv2\n",
    "import os\n",
    "import sys"
   ]
  },
  {
   "cell_type": "code",
   "execution_count": 4,
   "metadata": {
    "tags": []
   },
   "outputs": [],
   "source": [
    "image = \"C://Users/User/Documents/GitHub/Workspace/flask-ml-image/uploads/hotdog1.jpg\"\n",
    "image_file = tf.io.gfile.GFile(image, 'rb')\n",
    "data = image_file.read()\n",
    "classes = [line.rstrip() for line in tf.io.gfile.GFile(\"C://Users/User/Documents/GitHub/Workspace/flask-ml-image/ML-Model/classes.txt\")]\n",
    "\n",
    "with tf.io.gfile.GFile(\"C://Users/User/Documents/GitHub/Workspace/flask-ml-image/ML-Model/model.pb\", 'rb') as inception_graph:\n",
    "    definition = tf.compat.v1.GraphDef()\n",
    "    definition.ParseFromString(inception_graph.read())\n",
    "    _ = tf.import_graph_def(definition, name='')"
   ]
  },
  {
   "cell_type": "code",
   "execution_count": 11,
   "metadata": {
    "tags": []
   },
   "outputs": [
    {
     "output_type": "stream",
     "name": "stdout",
     "text": "hot dog              : 0.99960\nnot hot dog          : 0.00040\nhot dog\n"
    }
   ],
   "source": [
    "with tf.compat.v1.Session() as session:\n",
    "    tensor = session.graph.get_tensor_by_name('final_result:0')\n",
    "    #^ Feeding data as input and find the first prediction\n",
    "    result = session.run(tensor, {'DecodeJpeg/contents:0': data})\n",
    "    \n",
    "    top_results = result[0].argsort()[-len(result[0]):][::-1] \n",
    "    max_score = 0\n",
    "    for type in top_results:\n",
    "        hot_dog_or_not = classes[type]\n",
    "        score = result[0][type]\n",
    "        print('%-20s : %.5f' % (hot_dog_or_not, score))\n",
    "        if score > max_score:\n",
    "            max_score = score\n",
    "            predictions = hot_dog_or_not\n",
    "    print(str(predictions))"
   ]
  },
  {
   "cell_type": "code",
   "execution_count": null,
   "metadata": {},
   "outputs": [],
   "source": []
  }
 ]
}